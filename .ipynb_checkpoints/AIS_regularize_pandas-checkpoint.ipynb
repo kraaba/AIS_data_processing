{
 "cells": [
  {
   "cell_type": "markdown",
   "metadata": {},
   "source": [
    "# AIS regularize script documentation\n",
    "\n",
    "## Introduction\n",
    "\n",
    "Before going to the regularization of the Automatic Identification System (AIS) data this document starts with the introduction of the format of the data. Some recommendations on what additional data can be obtained from the \"raw\" AIS data that are not available in our data set are provided. Also some background information on the data is provided. If the reader is familiar with the data they can skip this section and go on reading the script commentary that starts with the subsection _\"Reading the AIS data\"_. The AIS data was collected for the purposes of the BIAS project (https://biasproject.wordpress.com/). The recommendations and comments are most useful for people wanting to use the AIS data for recorded underwater sound analysis.\n",
    "\n",
    "## Format of the BIAS AIS data\n",
    "\n",
    "The AIS data for all the sound monitoring locations for the year 2014 was collected and saved in the _.txt_ file format. For every monitoring location exists 12 of the files, one for each month of the year. The first few lines of the _.txt_ file look as following\n",
    "\n",
    "DAY;TIME;MMSI;LAT;LON;Vs;TYPEc;L1;L2;B1;B2;TYPEs;DRAUGHT;BIASST;DISTKM\n",
    "01-01-2014;18:02:17;310640000;55.205825;13.31618;15;70;190;39;19;13;17;7;2;19.1188469545512\n",
    "01-01-2014;18:01:04;310640000;55.20629167;13.30748833;15;70;190;39;19;13;17;7;2;18.6783675948067\n",
    "01-01-2014;17:57:59;310640000;55.20743;13.28499167;15;70;190;39;19;13;17;7;2;17.5740792317342\n",
    "01-01-2014;17:53:28;310640000;55.20901167;13.252135;15;70;190;39;19;13;17;7;2;16.0628887633561\n",
    "...\n",
    "\n",
    "Which in a table format looks like\n",
    "\n",
    "|        DAY |     TIME |      MMSI |         LAT |         LON | Vs | TYPEc |  L1 | L2 | B1 | B2 | TYPEs | DRAUGHT | BIASST |           DISTKM |\n",
    "|------------|----------|-----------|-------------|-------------|----|-------|-----|----|----|----|-------|---------|--------|------------------|\n",
    "| 01-01-2014 | 18:02:17 | 310640000 |   55.205825 |    13.31618 | 15 |    70 | 190 | 39 | 19 | 13 |    17 |       7 |      2 | 19.1188469545512 |\n",
    "| 01-01-2014 | 18:01:04 | 310640000 | 55.20629167 | 13.30748833 | 15 |    70 | 190 | 39 | 19 | 13 |    17 |       7 |      2 | 18.6783675948067 |\n",
    "| 01-01-2014 | 17:57:59 | 310640000 |    55.20743 | 13.28499167 | 15 |    70 | 190 | 39 | 19 | 13 |    17 |       7 |      2 | 17.5740792317342 |\n",
    "| 01-01-2014 | 17:53:28 | 310640000 | 55.20901167 |   13.252135 | 15 |    70 | 190 | 39 | 19 | 13 |    17 |       7 |      2 | 16.0628887633561 |\n",
    "\n",
    "The raw data contains various different data columns, that can be divided into three separate categories:\n",
    " - __Instantaneous__ position and speed of a vessel (__DAY, TIME, LAT, LON, Vs, DISTKM__)\n",
    " - __Voyage related__ data of the vessel (__DRAUGHT__)\n",
    " - __Vessel related__ data (__MMSI, TYPEc, L1, L2, B1, B2__)\n",
    "\n",
    "The meaning and usefulness of the __TYPEs__ is obscure. The __BIASST__ corresponds to the monitoring location number around which the AIS data is from. Here we will go through the different categories and the data within them."
   ]
  },
  {
   "cell_type": "markdown",
   "metadata": {},
   "source": [
    "### Vessel related data\n",
    "\n",
    "- __MMSI__ is the Maritime Mobile Service Identity of the vessel (https://en.wikipedia.org/wiki/Maritime_Mobile_Service_Identity). This is sort of like a phone number of a vessel (sometimes not only a vessel), as it also entails the code of the country where the ship is registred. The MMSI of a vessel can change. For example when they change their country of registration.\n",
    "- __TYPEc__ is the two numbered code for the type of the vessel. It can be decoded to give name of the type of the ship. These categories can be somewhat broad.\n",
    "- __L1, L2, B1, B2__ give the location of the AIS transponde onboard the ship by giving in meters\n",
    "     - __L1__ Dimension to Bow\n",
    "     - __L2__ Dimension to Stern\n",
    "     - __B1__ Dimension to Port\n",
    "     - __B2__ Dimension to Starboard\n",
    "\n",
    "From these dimensions the length and width of the ships can be calculated.\n",
    "\n",
    "If truly \"raw\" AIS data could be acquired I would recommend also to collect the __IMO number__ of the vessels. When the MMSI corresponds to the phone number the IMO number corresponds to the car's vehicle identification number (VIN). It is something remains linked to the hull for its lifetime, regardless of a change in name, flag, or owner. \n",
    "\n",
    "(__Other vessel related data__ available in AIS are the __Callsign__ of the ship and the __Vessel Name__. But also __EPFD no__ or the electronic position fixing device - Glonass or GPS for example.)"
   ]
  },
  {
   "cell_type": "markdown",
   "metadata": {},
   "source": [
    "### Voyage related data\n",
    "\n",
    "The only voyage related data availabe in this AIS data set is the __DRAUGHT__. This can be different for every voyage of the vessel. The draught of a ship's hull is the vertical distance in meters between the waterline and the bottom of the hull (keel), with the thickness of the hull included. \n",
    "\n",
    "(__Other voyage related data__ available in AIS are the __Destination__ of the ship and the __Estimated Time of arrival__ to the destination, although I have found these lacking in many of the vessels and also not necessary for my purposes.)"
   ]
  },
  {
   "cell_type": "markdown",
   "metadata": {},
   "source": [
    "### Instantaneous AIS data\n",
    "\n",
    "- __DAY, TIME__ gives the timestamp of the vessels position in day-month-year Hour:Minute:Second format. The timestamp is in __UTC__ Coordinated Universal Time.\n",
    "- __LAT, LON__ the latitude and the longitude of the vessel in the World Geodetic System (WGS) coordinates.\n",
    "- __Vs__ is the speed over ground of the vessel.\n",
    "- __DISTKM__ is something not provided by AIS but a calculated distance in km to the sound monitoring location. This was probably added by a person dealing with the gathering of the AIS data in the BIAS project. This was not always calculated from the right location and the precision was left unreasonably high (tenth of a nanometer).\n",
    "\n",
    "I would not recommend on collecting the other instantaneous data as they can be missing and unreliable.\n",
    "\n",
    "(__Other instantaneous data__ available in AIS are the Rate of Turn __ROT__, Course Over Ground __COG__, True Heading __HDG__, __Maneuver Indicator__, __Position accuracy__)"
   ]
  },
  {
   "cell_type": "markdown",
   "metadata": {},
   "source": [
    "## Reading the AIS data"
   ]
  },
  {
   "cell_type": "code",
   "execution_count": 116,
   "metadata": {},
   "outputs": [],
   "source": [
    "import pandas as pd  # Import Pandas package (high-performance, easy-to-use data structures and analysis tools)\n",
    "import os  # Provides portable way of using operating system dependent functionality\n",
    "\n",
    "AIS_dir = 'AIS_BIASstation'  # Directory with all the folders with AIS data from monitoring locations\n",
    "AIS_mon_locs = os.listdir(AIS_dir)  # List the subdirectories in the AIS_dir folder\n",
    "\n",
    "# For documentation AIS data from only one monitoring location is sufficient. \n",
    "# The script can be simply extended for looping through all the monitoring locations\n",
    "# by adding \"for loc in AIS_mon_locs:\" instead of the next line.\n",
    "loc = AIS_mon_locs[0]  # For demonstration choose only one folder for of AIS data\n",
    "AIS_mon_loc_path = os.path.join(AIS_dir, loc)  # List monthly AIS data files in the one location AIS folder\n",
    "# Loop through the monthly AIS data files\n",
    "for file in os.listdir(AIS_mon_loc_path):\n",
    "    # Read only the .txt files\n",
    "    if file.endswith(\".txt\"):\n",
    "        file = os.path.join(AIS_mon_loc_path, file)  # Construct the path of the file to be read\n",
    "        data = pd.read_table(file, sep=';')  # Read the data from the file\n",
    "        DAYTIME = data.DAY + ' ' + data.TIME  # Add the date and time together into one timestamp\n",
    "        # Construct a new dataframe from the raed data\n",
    "        AIS_mon_data = pd.DataFrame(data={'Time': DAYTIME, 'Latitude': data.LAT, 'Longitude': data.LON,\n",
    "                                          'MMSI': data.MMSI,  'Vs': data.Vs, 'Ship_type': data.TYPEc,\n",
    "                                          'L1': data.L1, 'L2': data.L2, 'B1': data.B1, 'B2': data.B2,\n",
    "                                          'Draught': data.DRAUGHT, 'Dist': round(data.DISTKM)})\n",
    "        # Convert the timestamp to the datetime format\n",
    "        AIS_mon_data.Time = pd.to_datetime(AIS_mon_data.Time, format='%d-%m-%Y %H:%M:%S', utc=True)\n",
    "        # Add the AIS data from one location together into one variable\n",
    "        if file == os.path.join(AIS_mon_loc_path, os.listdir(AIS_mon_loc_path)[0]):\n",
    "            AIS_mon_data_l = AIS_mon_data  # Create a file to append the data to from the first iteration\n",
    "        else:\n",
    "            AIS_mon_data_l = AIS_mon_data_l.append(AIS_mon_data)  # Append to the data frame\n",
    "\n",
    "del data, AIS_mon_data, DAYTIME, file  # Do some clean up"
   ]
  },
  {
   "cell_type": "code",
   "execution_count": null,
   "metadata": {},
   "outputs": [],
   "source": [
    "import datetime\n",
    "import matplotlib.pyplot as plt\n",
    "\n",
    "AIS_mon = AIS_mon_data_l['MMSI'].value_counts() > 1\n",
    "ships = AIS_mon_data_l.MMSI.unique()\n",
    "\n",
    "#for one_ship in ships:\n",
    "#    AIS_mon_one_ship = AIS_mon_data[AIS_mon_data.MMSI == one_ship]\n",
    "\n",
    "ind = 1\n",
    "time_thresh = datetime.timedelta(minutes=20)\n",
    "\n",
    "if AIS_mon[ships[ind]]:\n",
    "    AIS_mon_one_ship = AIS_mon_data[AIS_mon_data.MMSI == ships[ind]]\n",
    "    AIS_mon_one_ship = AIS_mon_one_ship.sort_values(by='Time')\n",
    "    \n",
    "    plt.plot(AIS_mon_one_ship.Longitude, AIS_mon_one_ship.Latitude, '.')\n",
    "    plt.show()\n",
    "    no = 1\n",
    "    voyage_no = [1]\n",
    "    for i in range(1, len(AIS_mon_one_ship)):\n",
    "        \n",
    "        if AIS_mon_one_ship.Time[i] - AIS_mon_one_ship.Time[i-1] > time_thresh:\n",
    "            no = no+1\n",
    "        voyage_no.append(no)\n",
    "    \n",
    "    AIS_mon_one_ship['Voyage'] = pd.Series(voyage_no, index=AIS_mon_one_ship.index) "
   ]
  }
 ],
 "metadata": {
  "kernelspec": {
   "display_name": "Python 3",
   "language": "python",
   "name": "python3"
  },
  "language_info": {
   "codemirror_mode": {
    "name": "ipython",
    "version": 3
   },
   "file_extension": ".py",
   "mimetype": "text/x-python",
   "name": "python",
   "nbconvert_exporter": "python",
   "pygments_lexer": "ipython3",
   "version": "3.6.4"
  }
 },
 "nbformat": 4,
 "nbformat_minor": 2
}
