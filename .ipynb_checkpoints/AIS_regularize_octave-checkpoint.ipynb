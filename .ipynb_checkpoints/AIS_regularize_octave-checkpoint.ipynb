{
 "cells": [
  {
   "cell_type": "markdown",
   "metadata": {},
   "source": [
    "# AIS regularize documented script"
   ]
  },
  {
   "cell_type": "code",
   "execution_count": 16,
   "metadata": {
    "scrolled": true
   },
   "outputs": [
    {
     "name": "stdout",
     "output_type": "stream",
     "text": [
      "file = AIS_BIASstation/AIS_BIAS2/ais_apr14.txt\n",
      "warning: the 'readtable' function is not yet implemented in Octave\n",
      "\n",
      "Please read <http://www.octave.org/missing.html> to learn how you can\n",
      "contribute missing functionality.\n",
      "warning: called from\n",
      "    __unimplemented__ at line 524 column 5\n",
      "error: 'readtable' undefined near line 12 column 20\n"
     ]
    }
   ],
   "source": [
    "directory = 'AIS_BIASstation';  # Directory where all the AIS files are located\n",
    "folders = dir(fullfile(directory, 'AIS*')); # List directories corresponding to different monitoring locations\n",
    "\n",
    "# Loop through all the folders of the monitoring locations\n",
    "for i=1#:length(folders)\n",
    "    files = [directory filesep folders(i).name];  # Construct path\n",
    "    location_name = folders(i).name(5:end);  # Extract the name of the monitoring location\n",
    "    ais_files = dir(fullfile(files, '*.txt'));  # List all the AIS files for one monitoring location\n",
    "    \n",
    "    # Loop through all the AIS files of a single monitoring location\n",
    "    for j=1:length(ais_files)\n",
    "        file = [files filesep ais_files(j).name]\n",
    "        Data = readtable(file,'Delimiter',';','ReadVariableNames',true,'Format','%s %s %f %f %f %f %f %f %f %f %f %f %f %f %s','TreatAsEmpty','NA');  % Read the AIS data into the table format\n",
    "        \n",
    "    end\n",
    "end"
   ]
  },
  {
   "cell_type": "code",
   "execution_count": 11,
   "metadata": {},
   "outputs": [
    {
     "name": "stdout",
     "output_type": "stream",
     "text": [
      "ais_files =\n",
      "\n",
      "  12x1 struct array containing the fields:\n",
      "\n",
      "    name\n",
      "    date\n",
      "    bytes\n",
      "    isdir\n",
      "    datenum\n",
      "    statinfo\n",
      "\n"
     ]
    }
   ],
   "source": []
  },
  {
   "cell_type": "code",
   "execution_count": null,
   "metadata": {},
   "outputs": [],
   "source": [
    "    for j=1:length(ais_files)\n",
    "        file = [files filesep ais_files(j).name];\n",
    "        \n",
    "        if ~strcmp(location_name,'BIAS21')\n",
    "            Data = readtable(file,'Delimiter',';','ReadVariableNames',true,'Format','%s %s %f %f %f %f %f %f %f %f %f %f %f %f %s','TreatAsEmpty','NA');  % Read the AIS data into the table format\n",
    "        else\n",
    "            Data = import21(file);\n",
    "        end\n",
    "        ais_l_tab = table;\n",
    "        \n",
    "        BaseStationTimeStamp_num = zeros(1, length(Data.B1));\n",
    "        BaseStationTimeStamp = cell(1,length(Data.B1));\n",
    "        \n",
    "        for k=1:length(Data.DAY)\n",
    "            BaseStationTimeStamp_num(1, k) = datenum([Data.DAY{k,1} ' ' Data.TIME{k,1}], 'dd-mm-yyyy HH:MM:SS');\n",
    "            BaseStationTimeStamp{1,k} = datestr(BaseStationTimeStamp_num(1, k), 'yyyymmdd HHMMSS');\n",
    "        end\n",
    "        \n",
    "        ais_l_tab.BaseStationTimeStamp = BaseStationTimeStamp';\n",
    "        ais_l_tab.MMSI = Data.MMSI;        \n",
    "        ais_l_tab.Longitude = Data.LON;\n",
    "        ais_l_tab.Latitude = Data.LAT;\n",
    "        ais_l_tab.BaseStationTimeStamp_num = BaseStationTimeStamp_num';\n",
    "        i,j\n",
    "        if j==1\n",
    "            Data_tab_loc = ais_l_tab;\n",
    "        else\n",
    "            Data_tab_loc = [Data_tab_loc; ais_l_tab];\n",
    "        end\n",
    "    end\n"
   ]
  }
 ],
 "metadata": {
  "kernelspec": {
   "display_name": "Octave",
   "language": "octave",
   "name": "octave"
  },
  "language_info": {
   "file_extension": ".m",
   "help_links": [
    {
     "text": "GNU Octave",
     "url": "https://www.gnu.org/software/octave/support.html"
    },
    {
     "text": "Octave Kernel",
     "url": "https://github.com/Calysto/octave_kernel"
    },
    {
     "text": "MetaKernel Magics",
     "url": "https://github.com/calysto/metakernel/blob/master/metakernel/magics/README.md"
    }
   ],
   "mimetype": "text/x-octave",
   "name": "octave",
   "version": "4.0.0"
  }
 },
 "nbformat": 4,
 "nbformat_minor": 2
}
